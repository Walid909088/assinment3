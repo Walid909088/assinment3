{
 "cells": [
  {
   "cell_type": "code",
   "execution_count": 1,
   "id": "133c04aa-8a26-41d7-800b-47dd0fe2d270",
   "metadata": {},
   "outputs": [
    {
     "name": "stdin",
     "output_type": "stream",
     "text": [
      "Enter the first number of the series  0\n",
      "Enter the second number of the series  1\n",
      "Enter the number of terms needed  5\n"
     ]
    },
    {
     "name": "stdout",
     "output_type": "stream",
     "text": [
      "0 1 1 2 3 "
     ]
    }
   ],
   "source": [
    "a=int(input(\"Enter the first number of the series \"))\n",
    "b=int(input(\"Enter the second number of the series \"))\n",
    "n=int(input(\"Enter the number of terms needed \"))\n",
    "print(a,b,end=\" \")\n",
    "while(n-2):\n",
    "    c=a+b\n",
    "    a=b\n",
    "    b=c\n",
    "    print(c,end=\" \")\n",
    "    n=n-1"
   ]
  },
  {
   "cell_type": "code",
   "execution_count": 2,
   "id": "03234a79-2a05-42c6-975f-e5b2c31eaa33",
   "metadata": {},
   "outputs": [
    {
     "name": "stdout",
     "output_type": "stream",
     "text": [
      "Frequency of  Apple : 1 \n",
      "Frequency of  Mango : 3 \n",
      "Frequency of  Orange : 1 \n",
      "Frequency of  Guava : 2 \n"
     ]
    }
   ],
   "source": [
    "def count(elements):\n",
    "    if elements[-1] == '.':\n",
    "        elements = elements[0:len(elements) - 1]\n",
    "    if elements in dictionary:\n",
    "        dictionary[elements] += 1\n",
    "    else:\n",
    "        dictionary.update({elements: 1})\n",
    "Sentence = \"Apple Mango Orange Mango Guava Guava Mango\"\n",
    "dictionary = {}\n",
    "lst = Sentence.split()\n",
    "for elements in lst:\n",
    "    count(elements)\n",
    "for allKeys in dictionary:\n",
    "    print (\"Frequency of \", allKeys, end = \" \")\n",
    "    print (\":\", end = \" \")\n",
    "    print (dictionary[allKeys], end = \" \")\n",
    "    print()\n"
   ]
  },
  {
   "cell_type": "code",
   "execution_count": 7,
   "id": "1b7593cf-8d96-4977-8580-e098ad18a575",
   "metadata": {},
   "outputs": [
    {
     "name": "stdout",
     "output_type": "stream",
     "text": [
      "[(5, 7), (3, 9), (1, 11)]\n"
     ]
    }
   ],
   "source": [
    "\n",
    "def findPairs(lst, K): \n",
    "    res = []\n",
    "    while lst:\n",
    "        num = lst.pop()\n",
    "        diff = K - num\n",
    "        if diff in lst:\n",
    "            res.append((diff, num))\n",
    "         \n",
    "    res.reverse()\n",
    "    return res\n",
    "lst = [1, 5, 3, 7, 9,8,6,11]\n",
    "K = 12\n",
    "print(findPairs(lst, K))"
   ]
  },
  {
   "cell_type": "code",
   "execution_count": 18,
   "id": "dba9cae1-e0fe-42ec-8ea6-30fc07517f72",
   "metadata": {},
   "outputs": [
    {
     "name": "stdout",
     "output_type": "stream",
     "text": [
      "The original list :  [(3, 5), (10, 7), (10, 3), (1, 2)]\n",
      "Maximum product among pairs :  70\n"
     ]
    }
   ],
   "source": [
    "test_list = [(3, 5), (10, 7), (10, 3), (1, 2)]\n",
    "print(\"The original list : \",test_list)\n",
    "temp = [(a * b) for a, b in test_list]\n",
    "res = max(temp)\n",
    "print(\"Maximum product among pairs : \",res)"
   ]
  },
  {
   "cell_type": "code",
   "execution_count": 26,
   "id": "6349c3ce-4220-4878-953a-30fd16af02e9",
   "metadata": {},
   "outputs": [
    {
     "name": "stdin",
     "output_type": "stream",
     "text": [
      "enter your value: 56\n"
     ]
    },
    {
     "name": "stdout",
     "output_type": "stream",
     "text": [
      "56 is not a prime number\n"
     ]
    }
   ],
   "source": [
    "num =int(input(\"enter your value:\"))\n",
    "if num > 1:\n",
    "    for i in range(2, (num)+1):\n",
    "        if (num % 2) == 0:\n",
    "            print(num, \"is not a prime number\")\n",
    "            break\n",
    "    else:\n",
    "        print(num, \"is a prime number\")"
   ]
  },
  {
   "cell_type": "code",
   "execution_count": 9,
   "id": "0c96315e-86bc-4e72-831b-74bc926d3046",
   "metadata": {},
   "outputs": [
    {
     "name": "stdout",
     "output_type": "stream",
     "text": [
      "world hellow\n"
     ]
    }
   ],
   "source": [
    "def rev_sentence(sentence): \n",
    "    words = sentence.split() \n",
    "    reverse_sentence = ' '.join(reversed(words)) \n",
    "    return reverse_sentence \n",
    "input = 'hellow world'\n",
    "print (rev_sentence(input)) "
   ]
  },
  {
   "cell_type": "code",
   "execution_count": 21,
   "id": "79ad7bd0-e606-4639-bd45-ebb07145def2",
   "metadata": {},
   "outputs": [
    {
     "name": "stdout",
     "output_type": "stream",
     "text": [
      "55 is palindrome\n"
     ]
    }
   ],
   "source": [
    "x=55\n",
    "if str(x) == str(x)[::-1]:\n",
    "    print(x,\"is palindrome\")\n",
    "else :\n",
    "    print(x,\"is not palindrome\")"
   ]
  },
  {
   "cell_type": "code",
   "execution_count": 25,
   "id": "91ebd506-2fba-494b-9555-2bba39bc188b",
   "metadata": {},
   "outputs": [
    {
     "name": "stdout",
     "output_type": "stream",
     "text": [
      "malayalam is palindrome\n"
     ]
    }
   ],
   "source": [
    "def isPalindrome(x):\n",
    "  if str(x) == str(x)[::-1]:\n",
    "      print(x,\"is palindrome\")\n",
    "  else :\n",
    "      print(x,\"is not palindrome\")\n",
    "z=\"malayalam\"\n",
    "isPalindrome(z)"
   ]
  },
  {
   "cell_type": "code",
   "execution_count": 31,
   "id": "66fb1a06-362c-4f72-a2da-ca42012cea9d",
   "metadata": {},
   "outputs": [
    {
     "name": "stdout",
     "output_type": "stream",
     "text": [
      "[1, 4, 9, 16, 25, 36, 49, 64, 81, 100, 121, 144, 169, 196, 225, 256, 289, 324, 361, 400, 441, 484, 529, 576, 625, 676, 729, 784, 841, 900]\n"
     ]
    }
   ],
   "source": [
    "def printvalue():\n",
    "    x=list()\n",
    "    for i in range(1, 31):\n",
    "      x.append(i**2)\n",
    "    print(x)\n",
    "printvalue()"
   ]
  },
  {
   "cell_type": "code",
   "execution_count": 34,
   "id": "ac7a0776-be38-41c7-9e89-acc0533fcec9",
   "metadata": {},
   "outputs": [
    {
     "name": "stdout",
     "output_type": "stream",
     "text": [
      "[(1, 2, 3), (1, 3, 2), (2, 1, 3), (2, 3, 1), (3, 1, 2), (3, 2, 1)]\n"
     ]
    }
   ],
   "source": [
    "def itertools_function():\n",
    "  import itertools\n",
    "  print(list(itertools.permutations([1, 2, 3])))\n",
    "itertools_function()"
   ]
  },
  {
   "cell_type": "code",
   "execution_count": 37,
   "id": "af8461af-5327-424a-b2ac-b9069aee7ed4",
   "metadata": {},
   "outputs": [
    {
     "name": "stdout",
     "output_type": "stream",
     "text": [
      "<function test.<locals>.add at 0x000001F337589300>\n"
     ]
    }
   ],
   "source": [
    "def test(a):\n",
    "    def add(b):\n",
    "        nonlocal a\n",
    "        a+=1\n",
    "        return a+b\n",
    "    return add\n",
    "x=test(4)\n",
    "print(x(4)\n",
    "\n"
   ]
  },
  {
   "cell_type": "code",
   "execution_count": null,
   "id": "88289833-fe05-4469-9215-c07590d4d04c",
   "metadata": {},
   "outputs": [],
   "source": []
  }
 ],
 "metadata": {
  "kernelspec": {
   "display_name": "Python 3 (ipykernel)",
   "language": "python",
   "name": "python3"
  },
  "language_info": {
   "codemirror_mode": {
    "name": "ipython",
    "version": 3
   },
   "file_extension": ".py",
   "mimetype": "text/x-python",
   "name": "python",
   "nbconvert_exporter": "python",
   "pygments_lexer": "ipython3",
   "version": "3.11.7"
  }
 },
 "nbformat": 4,
 "nbformat_minor": 5
}
